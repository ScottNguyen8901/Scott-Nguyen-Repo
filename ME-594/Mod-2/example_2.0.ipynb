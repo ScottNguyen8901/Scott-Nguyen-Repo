{
 "cells": [
  {
   "cell_type": "markdown",
   "metadata": {},
   "source": [
    "## Sensor-to-Object Vector in SEU (TH) Coordinates\n",
    "\n",
    "A sensor is located at sea level with the following geographic coordinates:  \n",
    "**Latitude (L):** 20°N  \n",
    "**Longitude (λ):** 35°E  \n",
    "\n",
    "At a given instant, a space object's position vector from Earth's center, expressed in Earth-Centered Inertial (ECI) coordinates, is:\n",
    "\n",
    "**ECI Vector (km):** (5294.35, 3707.14, 2352.42)\n",
    "\n",
    "Determine the vector from the sensor to the space object, expressed in the sensor’s **Topocentric Horizon (TH)** coordinates, which follow the **South-East-Up (SEU)** convention.\n",
    "\n",
    "**Assumptions:**\n",
    "- Earth is a perfect sphere with radius **6378 km**\n",
    "- The Greenwich sidereal time (**θ<sub>g</sub>**) at this instant is **0**"
   ]
  },
  {
   "cell_type": "code",
   "execution_count": 7,
   "metadata": {},
   "outputs": [
    {
     "name": "stdout",
     "output_type": "stream",
     "text": [
      "\n",
      "The vector from the sensor to the object in the sensor's TH coordinates (in km) is:\n",
      "\n",
      "[ -0.01, -0.00, 500.00] km\n"
     ]
    }
   ],
   "source": [
    "import numpy as np\n",
    "\n",
    "R_e = 6378\n",
    "theta_g = 0\n",
    "\n",
    "lat = np.radians(20)\n",
    "lon = np.radians(35)\n",
    "\n",
    "r_o_ECI = np.array([5294.35, 3707.14, 2352.42])\n",
    "r_s_TH  = np.array([0, 0, R_e])\n",
    "\n",
    "theta = lon + theta_g\n",
    "\n",
    "Q_ECEF_TH = np.array([[np.sin(lat)*np.cos(lon), np.sin(lat)*np.sin(lon), -np.cos(lat)],\n",
    "                      [-np.sin(lon), np.cos(lon), 0],\n",
    "                      [np.cos(lat)*np.cos(lon), np.cos(lat)*np.sin(lon), np.sin(lat)]])\n",
    "\n",
    "Q_ECI_TH = np.array([[np.sin(lat)*np.cos(theta), np.sin(lat)*np.sin(theta), -np.cos(lat)],\n",
    "                      [-np.sin(theta), np.cos(theta), 0],\n",
    "                      [np.cos(lat)*np.cos(theta), np.cos(lat)*np.sin(theta), np.sin(lat)]])\n",
    "\n",
    "r_s_ECI = np.transpose(Q_ECI_TH) @ r_s_TH\n",
    "r_so_ECI = r_o_ECI - r_s_ECI\n",
    "r_so_TH = Q_ECI_TH @ r_so_ECI\n",
    "\n",
    "print(f\"\\nThe vector from the sensor to the object in the sensor's TH coordinates (in km) is:\\n\")\n",
    "print(f\"[ {r_so_TH[0]:.2f}, {r_so_TH[1]:.2f}, {r_so_TH[2]:.2f}] km\")"
   ]
  }
 ],
 "metadata": {
  "kernelspec": {
   "display_name": "Python 3",
   "language": "python",
   "name": "python3"
  },
  "language_info": {
   "codemirror_mode": {
    "name": "ipython",
    "version": 3
   },
   "file_extension": ".py",
   "mimetype": "text/x-python",
   "name": "python",
   "nbconvert_exporter": "python",
   "pygments_lexer": "ipython3",
   "version": "3.12.6"
  }
 },
 "nbformat": 4,
 "nbformat_minor": 2
}
